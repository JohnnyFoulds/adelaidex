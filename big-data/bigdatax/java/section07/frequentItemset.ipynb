{
 "cells": [
  {
   "cell_type": "markdown",
   "source": [
    "# Frequent Itemsets\n",
    "\n",
    "https://learning.edx.org/course/course-v1:AdelaideX+BigDataX+1T2021/block-v1:AdelaideX+BigDataX+1T2021+type@sequential+block@6d964cdde9aa415889145721337be468/block-v1:AdelaideX+BigDataX+1T2021+type@vertical+block@5298888681ca4e3ca3b13350479feb94"
   ],
   "metadata": {}
  },
  {
   "cell_type": "code",
   "execution_count": 28,
   "source": [
    "public class FrequentItemsets {\n",
    "    protected HashMap<Integer, String> itemNames;\n",
    "    protected ArrayList<int[]> baskets;\n",
    "\n",
    "    /**\n",
    "     * Initialize a new instance of the class\n",
    "     */\n",
    "    public FrequentItemsets(String[] itemNames) {\n",
    "        super();\n",
    "        this.InitializeItemNames(itemNames);\n",
    "    }\n",
    "\n",
    "    /**\n",
    "     * Initialize the item name dictionary.\n",
    "     */\n",
    "    public void InitializeItemNames(String[] itemNames) {\n",
    "        // load the items into the dictionary\n",
    "        this.itemNames = new HashMap<Integer, String>();\n",
    "        for (int i = 0; i < itemNames.length; i++) {\n",
    "            this.itemNames.put(i, itemNames[i]);\n",
    "        }\n",
    "\n",
    "        // initialize the basket collection\n",
    "        this.baskets = new ArrayList<int[]>();\n",
    "    }\n",
    "}\n",
    "\n",
    "/**\n",
    " * Test the FrequentItemsets class.\n",
    " */\n",
    "String[] itemNames = {\n",
    "    \"Chocolate\",\n",
    "    \"Beer\",\n",
    "    \"Milk\",\n",
    "    \"Bread\",\n",
    "    \"Eggs\",\n",
    "    \"Oranges\",\n",
    "    \"Strawberries\",\n",
    "    \"Diapers\",\n",
    "    \"Serial\",\n",
    "    \"Grapes\",\n",
    "    \"Apples\",\n",
    "    \"Brocolli\",\n",
    "    \"Pears\"\n",
    "};\n",
    "\n",
    "FrequentItemsets itemset = new FrequentItemsets(itemNames);\n",
    "// itemset.addBasket(new String[] {\"Chocolates\", \"Beer\", \"Milk\", \"Bread\"});\n",
    "// itemset.addBasket(new String[] {\"Bread\", \"Eggs\", \"Chocolates\", \"Oranges\", \"Milk\", \"Beer\"});"
   ],
   "outputs": [
    {
     "output_type": "error",
     "ename": "UnresolvedReferenceException",
     "evalue": "Attempt to use definition snippet with unresolved references in Snippet:ClassKey(FrequentItemsets)#12-public class FrequentItemsets {\n    protected HashMap<Integer, String> itemNames;\n    protected ArrayList<int[]> baskets;\n\n    /**\n     * Initialize a new instance of the class\n     */\n    public FrequentItemsets(String[] itemNames) {\n        super();\n        this.InitializeItemNames(itemNames);\n    }\n\n    /**\n     * Initialize the item name dictionary.\n     */\n    public void InitializeItemNames(String[] itemNames) {\n        // load the items into the dictionary\n        this.itemNames = new HashMap<Integer, String>();\n        for (int i = 0; i < itemNames.length; i++) {\n            this.itemNames.put(i, itemNames[i]);\n        }\n\n        // initialize the basket collection\n        this.basket = new ArrayList<int[]>();\n    }\n}",
     "traceback": [
      "\u001b[1m\u001b[30m|   \u001b[1m\u001b[30mpublic class FrequentItemsets {\u001b[0m",
      "\u001b[1m\u001b[30m|   \u001b[1m\u001b[30m    protected HashMap<Integer, String> itemNames;\u001b[0m",
      "\u001b[1m\u001b[30m|   \u001b[1m\u001b[30m    protected ArrayList<int[]> baskets;\u001b[0m",
      "\u001b[1m\u001b[30m|   \u001b[1m\u001b[30m\u001b[0m",
      "\u001b[1m\u001b[30m|   \u001b[1m\u001b[30m    /**\u001b[0m",
      "\u001b[1m\u001b[30m|   \u001b[1m\u001b[30m     * Initialize a new instance of the class\u001b[0m",
      "\u001b[1m\u001b[30m|   \u001b[1m\u001b[30m     */\u001b[0m",
      "\u001b[1m\u001b[30m|   \u001b[1m\u001b[30m    public FrequentItemsets(String[] itemNames) {\u001b[0m",
      "\u001b[1m\u001b[30m|   \u001b[1m\u001b[30m        super();\u001b[0m",
      "\u001b[1m\u001b[30m|   \u001b[1m\u001b[30m        this.InitializeItemNames(itemNames);\u001b[0m",
      "\u001b[1m\u001b[30m|   \u001b[1m\u001b[30m    }\u001b[0m",
      "\u001b[1m\u001b[30m|   \u001b[1m\u001b[30m\u001b[0m",
      "\u001b[1m\u001b[30m|   \u001b[1m\u001b[30m    /**\u001b[0m",
      "\u001b[1m\u001b[30m|   \u001b[1m\u001b[30m     * Initialize the item name dictionary.\u001b[0m",
      "\u001b[1m\u001b[30m|   \u001b[1m\u001b[30m     */\u001b[0m",
      "\u001b[1m\u001b[30m|   \u001b[1m\u001b[30m    public void InitializeItemNames(String[] itemNames) {\u001b[0m",
      "\u001b[1m\u001b[30m|   \u001b[1m\u001b[30m        // load the items into the dictionary\u001b[0m",
      "\u001b[1m\u001b[30m|   \u001b[1m\u001b[30m        this.itemNames = new HashMap<Integer, String>();\u001b[0m",
      "\u001b[1m\u001b[30m|   \u001b[1m\u001b[30m        for (int i = 0; i < itemNames.length; i++) {\u001b[0m",
      "\u001b[1m\u001b[30m|   \u001b[1m\u001b[30m            this.itemNames.put(i, itemNames[i]);\u001b[0m",
      "\u001b[1m\u001b[30m|   \u001b[1m\u001b[30m        }\u001b[0m",
      "\u001b[1m\u001b[30m|   \u001b[1m\u001b[30m\u001b[0m",
      "\u001b[1m\u001b[30m|   \u001b[1m\u001b[30m        // initialize the basket collection\u001b[0m",
      "\u001b[1m\u001b[30m|   \u001b[1m\u001b[30m        this.basket = new ArrayList<int[]>();\u001b[0m",
      "\u001b[1m\u001b[30m|   \u001b[1m\u001b[30m    }\u001b[0m",
      "\u001b[1m\u001b[30m|   \u001b[1m\u001b[30m}\u001b[0m",
      "\u001b[1m\u001b[31mUnresolved dependencies:\u001b[0m",
      "\u001b[1m\u001b[31m   - variable basket\u001b[0m"
     ]
    }
   ],
   "metadata": {}
  }
 ],
 "metadata": {
  "orig_nbformat": 4,
  "language_info": {
   "name": "Java",
   "version": "11.0.11+9",
   "mimetype": "text/x-java-source",
   "file_extension": ".jshell",
   "pygments_lexer": "java",
   "codemirror_mode": "java"
  },
  "kernelspec": {
   "name": "java",
   "display_name": "Java",
   "language": "java"
  }
 },
 "nbformat": 4,
 "nbformat_minor": 2
}
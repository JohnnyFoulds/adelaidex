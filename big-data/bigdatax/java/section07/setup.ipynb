{
 "cells": [
  {
   "cell_type": "markdown",
   "source": [
    "https://github.com/SpencerPark/IJava#install-pre-built-binary\n",
    "\n",
    "```bash\n",
    "# https://blog.frankel.ch/teaching-java-jupyter-notebooks/\n",
    "pip3 install jupyter\n",
    "cd ~\n",
    "wget https://github.com/SpencerPark/IJava/releases/download/v1.3.0/ijava-1.3.0.zip\n",
    "unzip ijava-1.3.0.zip\n",
    "python3 install.py --user\n",
    "\n",
    "# install jypter extention in VS Code | ms-python.python\n",
    "```"
   ],
   "metadata": {}
  },
  {
   "cell_type": "code",
   "execution_count": 5,
   "source": [
    "public void test() {\n",
    "    System.out.println(\"Hello World, I am here!!\");\n",
    "}\n",
    "\n",
    "test()"
   ],
   "outputs": [
    {
     "output_type": "stream",
     "name": "stdout",
     "text": [
      "Hello World, I am here!!\n"
     ]
    }
   ],
   "metadata": {}
  },
  {
   "cell_type": "code",
   "execution_count": 17,
   "source": [
    "int[][] test = { \n",
    "    {1, 1} \n",
    "};\n",
    "\n",
    "System.out.println(Arrays.deepToString(test));"
   ],
   "outputs": [
    {
     "output_type": "stream",
     "name": "stdout",
     "text": [
      "[[1, 1]]\n"
     ]
    }
   ],
   "metadata": {}
  }
 ],
 "metadata": {
  "orig_nbformat": 4,
  "language_info": {
   "name": "Java",
   "version": "11.0.11+9",
   "mimetype": "text/x-java-source",
   "file_extension": ".jshell",
   "pygments_lexer": "java",
   "codemirror_mode": "java"
  },
  "kernelspec": {
   "name": "java",
   "display_name": "Java",
   "language": "java"
  },
  "interpreter": {
   "hash": "31f2aee4e71d21fbe5cf8b01ff0e069b9275f58929596ceb00d14d90e3e16cd6"
  }
 },
 "nbformat": 4,
 "nbformat_minor": 2
}
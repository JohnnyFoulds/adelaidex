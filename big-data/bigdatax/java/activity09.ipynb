{
 "cells": [
  {
   "cell_type": "markdown",
   "source": [
    "# Activity 9\n",
    "\n",
    "- https://intellipaat.com/blog/data-science-apriori-algorithm/\n",
    "- https://www.geeksforgeeks.org/implementing-apriori-algorithm-in-python/"
   ],
   "metadata": {}
  },
  {
   "cell_type": "code",
   "execution_count": 1,
   "source": [
    "import pandas as pd\n",
    "from apyori import apriori\n",
    "from pprint import pprint"
   ],
   "outputs": [],
   "metadata": {}
  },
  {
   "cell_type": "markdown",
   "source": [
    "## Load the Baskets"
   ],
   "metadata": {}
  },
  {
   "cell_type": "code",
   "execution_count": 2,
   "source": [
    "def get_possible_items(basket_data):\n",
    "    items = []\n",
    "    for basket in basket_data:\n",
    "        for item in basket:\n",
    "            items.append(item)\n",
    "\n",
    "    items = list(set(items))\n",
    "    items.sort()\n",
    "    return items\n",
    "\n",
    "def encode_basket(basket_data):\n",
    "    rows = []\n",
    "\n",
    "    columns = get_possible_items(basket_data)\n",
    "    for basket in basket_data:\n",
    "        row = [None] * len(columns)\n",
    "        for item in basket:\n",
    "            row[columns.index(item)]= item\n",
    "\n",
    "        rows.append(row)\n",
    "\n",
    "    return rows"
   ],
   "outputs": [],
   "metadata": {}
  },
  {
   "cell_type": "code",
   "execution_count": 3,
   "source": [
    "transactions = [\n",
    "    ['A', 'B', 'D', 'G'],\n",
    "    ['B', 'D', 'E'],\n",
    "    ['A', 'B', 'C', 'E', 'F'],\n",
    "    ['B', 'D', 'E', 'G'],\n",
    "    ['A', 'B', 'C', 'E', 'F'],\n",
    "    ['B', 'E', 'G'],\n",
    "    ['A', 'C', 'D', 'E'],\n",
    "    ['B', 'E'],\n",
    "    ['A', 'B', 'E', 'F'],\n",
    "    ['A', 'C', 'D', 'E']\n",
    "]"
   ],
   "outputs": [],
   "metadata": {}
  },
  {
   "cell_type": "code",
   "execution_count": 4,
   "source": [
    "results = list(apriori(transactions))\n",
    "#pprint(results)"
   ],
   "outputs": [],
   "metadata": {}
  },
  {
   "cell_type": "markdown",
   "source": [
    "## Question 4"
   ],
   "metadata": {}
  },
  {
   "cell_type": "code",
   "execution_count": 5,
   "source": [
    "list(apriori(transactions, min_confidence=1, max_length=2))"
   ],
   "outputs": [
    {
     "output_type": "execute_result",
     "data": {
      "text/plain": [
       "[RelationRecord(items=frozenset({'C', 'A'}), support=0.4, ordered_statistics=[OrderedStatistic(items_base=frozenset({'C'}), items_add=frozenset({'A'}), confidence=1.0, lift=1.6666666666666667)]),\n",
       " RelationRecord(items=frozenset({'F', 'A'}), support=0.3, ordered_statistics=[OrderedStatistic(items_base=frozenset({'F'}), items_add=frozenset({'A'}), confidence=1.0, lift=1.6666666666666667)]),\n",
       " RelationRecord(items=frozenset({'B', 'F'}), support=0.3, ordered_statistics=[OrderedStatistic(items_base=frozenset({'F'}), items_add=frozenset({'B'}), confidence=1.0, lift=1.25)]),\n",
       " RelationRecord(items=frozenset({'B', 'G'}), support=0.3, ordered_statistics=[OrderedStatistic(items_base=frozenset({'G'}), items_add=frozenset({'B'}), confidence=1.0, lift=1.25)]),\n",
       " RelationRecord(items=frozenset({'E', 'C'}), support=0.4, ordered_statistics=[OrderedStatistic(items_base=frozenset({'C'}), items_add=frozenset({'E'}), confidence=1.0, lift=1.1111111111111112)]),\n",
       " RelationRecord(items=frozenset({'F', 'E'}), support=0.3, ordered_statistics=[OrderedStatistic(items_base=frozenset({'F'}), items_add=frozenset({'E'}), confidence=1.0, lift=1.1111111111111112)])]"
      ]
     },
     "metadata": {},
     "execution_count": 5
    }
   ],
   "metadata": {}
  },
  {
   "cell_type": "markdown",
   "source": [
    "## Question 5"
   ],
   "metadata": {}
  },
  {
   "cell_type": "code",
   "execution_count": 6,
   "source": [
    "list(apriori(transactions, max_length=2))"
   ],
   "outputs": [
    {
     "output_type": "execute_result",
     "data": {
      "text/plain": [
       "[RelationRecord(items=frozenset({'A'}), support=0.6, ordered_statistics=[OrderedStatistic(items_base=frozenset(), items_add=frozenset({'A'}), confidence=0.6, lift=1.0)]),\n",
       " RelationRecord(items=frozenset({'B'}), support=0.8, ordered_statistics=[OrderedStatistic(items_base=frozenset(), items_add=frozenset({'B'}), confidence=0.8, lift=1.0)]),\n",
       " RelationRecord(items=frozenset({'C'}), support=0.4, ordered_statistics=[OrderedStatistic(items_base=frozenset(), items_add=frozenset({'C'}), confidence=0.4, lift=1.0)]),\n",
       " RelationRecord(items=frozenset({'D'}), support=0.5, ordered_statistics=[OrderedStatistic(items_base=frozenset(), items_add=frozenset({'D'}), confidence=0.5, lift=1.0)]),\n",
       " RelationRecord(items=frozenset({'E'}), support=0.9, ordered_statistics=[OrderedStatistic(items_base=frozenset(), items_add=frozenset({'E'}), confidence=0.9, lift=1.0)]),\n",
       " RelationRecord(items=frozenset({'F'}), support=0.3, ordered_statistics=[OrderedStatistic(items_base=frozenset(), items_add=frozenset({'F'}), confidence=0.3, lift=1.0)]),\n",
       " RelationRecord(items=frozenset({'G'}), support=0.3, ordered_statistics=[OrderedStatistic(items_base=frozenset(), items_add=frozenset({'G'}), confidence=0.3, lift=1.0)]),\n",
       " RelationRecord(items=frozenset({'B', 'A'}), support=0.4, ordered_statistics=[OrderedStatistic(items_base=frozenset(), items_add=frozenset({'B', 'A'}), confidence=0.4, lift=1.0), OrderedStatistic(items_base=frozenset({'A'}), items_add=frozenset({'B'}), confidence=0.6666666666666667, lift=0.8333333333333334), OrderedStatistic(items_base=frozenset({'B'}), items_add=frozenset({'A'}), confidence=0.5, lift=0.8333333333333334)]),\n",
       " RelationRecord(items=frozenset({'C', 'A'}), support=0.4, ordered_statistics=[OrderedStatistic(items_base=frozenset(), items_add=frozenset({'C', 'A'}), confidence=0.4, lift=1.0), OrderedStatistic(items_base=frozenset({'A'}), items_add=frozenset({'C'}), confidence=0.6666666666666667, lift=1.6666666666666667), OrderedStatistic(items_base=frozenset({'C'}), items_add=frozenset({'A'}), confidence=1.0, lift=1.6666666666666667)]),\n",
       " RelationRecord(items=frozenset({'D', 'A'}), support=0.3, ordered_statistics=[OrderedStatistic(items_base=frozenset(), items_add=frozenset({'D', 'A'}), confidence=0.3, lift=1.0), OrderedStatistic(items_base=frozenset({'A'}), items_add=frozenset({'D'}), confidence=0.5, lift=1.0), OrderedStatistic(items_base=frozenset({'D'}), items_add=frozenset({'A'}), confidence=0.6, lift=1.0)]),\n",
       " RelationRecord(items=frozenset({'E', 'A'}), support=0.5, ordered_statistics=[OrderedStatistic(items_base=frozenset(), items_add=frozenset({'E', 'A'}), confidence=0.5, lift=1.0), OrderedStatistic(items_base=frozenset({'A'}), items_add=frozenset({'E'}), confidence=0.8333333333333334, lift=0.9259259259259259), OrderedStatistic(items_base=frozenset({'E'}), items_add=frozenset({'A'}), confidence=0.5555555555555556, lift=0.925925925925926)]),\n",
       " RelationRecord(items=frozenset({'F', 'A'}), support=0.3, ordered_statistics=[OrderedStatistic(items_base=frozenset(), items_add=frozenset({'F', 'A'}), confidence=0.3, lift=1.0), OrderedStatistic(items_base=frozenset({'A'}), items_add=frozenset({'F'}), confidence=0.5, lift=1.6666666666666667), OrderedStatistic(items_base=frozenset({'F'}), items_add=frozenset({'A'}), confidence=1.0, lift=1.6666666666666667)]),\n",
       " RelationRecord(items=frozenset({'G', 'A'}), support=0.1, ordered_statistics=[OrderedStatistic(items_base=frozenset(), items_add=frozenset({'G', 'A'}), confidence=0.1, lift=1.0), OrderedStatistic(items_base=frozenset({'A'}), items_add=frozenset({'G'}), confidence=0.16666666666666669, lift=0.5555555555555557), OrderedStatistic(items_base=frozenset({'G'}), items_add=frozenset({'A'}), confidence=0.33333333333333337, lift=0.5555555555555557)]),\n",
       " RelationRecord(items=frozenset({'B', 'C'}), support=0.2, ordered_statistics=[OrderedStatistic(items_base=frozenset(), items_add=frozenset({'B', 'C'}), confidence=0.2, lift=1.0), OrderedStatistic(items_base=frozenset({'B'}), items_add=frozenset({'C'}), confidence=0.25, lift=0.625), OrderedStatistic(items_base=frozenset({'C'}), items_add=frozenset({'B'}), confidence=0.5, lift=0.625)]),\n",
       " RelationRecord(items=frozenset({'B', 'D'}), support=0.3, ordered_statistics=[OrderedStatistic(items_base=frozenset(), items_add=frozenset({'B', 'D'}), confidence=0.3, lift=1.0), OrderedStatistic(items_base=frozenset({'B'}), items_add=frozenset({'D'}), confidence=0.37499999999999994, lift=0.7499999999999999), OrderedStatistic(items_base=frozenset({'D'}), items_add=frozenset({'B'}), confidence=0.6, lift=0.7499999999999999)]),\n",
       " RelationRecord(items=frozenset({'B', 'E'}), support=0.7, ordered_statistics=[OrderedStatistic(items_base=frozenset(), items_add=frozenset({'B', 'E'}), confidence=0.7, lift=1.0), OrderedStatistic(items_base=frozenset({'B'}), items_add=frozenset({'E'}), confidence=0.8749999999999999, lift=0.9722222222222221), OrderedStatistic(items_base=frozenset({'E'}), items_add=frozenset({'B'}), confidence=0.7777777777777777, lift=0.9722222222222221)]),\n",
       " RelationRecord(items=frozenset({'B', 'F'}), support=0.3, ordered_statistics=[OrderedStatistic(items_base=frozenset(), items_add=frozenset({'B', 'F'}), confidence=0.3, lift=1.0), OrderedStatistic(items_base=frozenset({'B'}), items_add=frozenset({'F'}), confidence=0.37499999999999994, lift=1.2499999999999998), OrderedStatistic(items_base=frozenset({'F'}), items_add=frozenset({'B'}), confidence=1.0, lift=1.25)]),\n",
       " RelationRecord(items=frozenset({'B', 'G'}), support=0.3, ordered_statistics=[OrderedStatistic(items_base=frozenset(), items_add=frozenset({'B', 'G'}), confidence=0.3, lift=1.0), OrderedStatistic(items_base=frozenset({'B'}), items_add=frozenset({'G'}), confidence=0.37499999999999994, lift=1.2499999999999998), OrderedStatistic(items_base=frozenset({'G'}), items_add=frozenset({'B'}), confidence=1.0, lift=1.25)]),\n",
       " RelationRecord(items=frozenset({'D', 'C'}), support=0.2, ordered_statistics=[OrderedStatistic(items_base=frozenset(), items_add=frozenset({'D', 'C'}), confidence=0.2, lift=1.0), OrderedStatistic(items_base=frozenset({'C'}), items_add=frozenset({'D'}), confidence=0.5, lift=1.0), OrderedStatistic(items_base=frozenset({'D'}), items_add=frozenset({'C'}), confidence=0.4, lift=1.0)]),\n",
       " RelationRecord(items=frozenset({'E', 'C'}), support=0.4, ordered_statistics=[OrderedStatistic(items_base=frozenset(), items_add=frozenset({'E', 'C'}), confidence=0.4, lift=1.0), OrderedStatistic(items_base=frozenset({'C'}), items_add=frozenset({'E'}), confidence=1.0, lift=1.1111111111111112), OrderedStatistic(items_base=frozenset({'E'}), items_add=frozenset({'C'}), confidence=0.4444444444444445, lift=1.1111111111111112)]),\n",
       " RelationRecord(items=frozenset({'F', 'C'}), support=0.2, ordered_statistics=[OrderedStatistic(items_base=frozenset(), items_add=frozenset({'F', 'C'}), confidence=0.2, lift=1.0), OrderedStatistic(items_base=frozenset({'C'}), items_add=frozenset({'F'}), confidence=0.5, lift=1.6666666666666667), OrderedStatistic(items_base=frozenset({'F'}), items_add=frozenset({'C'}), confidence=0.6666666666666667, lift=1.6666666666666667)]),\n",
       " RelationRecord(items=frozenset({'E', 'D'}), support=0.4, ordered_statistics=[OrderedStatistic(items_base=frozenset(), items_add=frozenset({'E', 'D'}), confidence=0.4, lift=1.0), OrderedStatistic(items_base=frozenset({'D'}), items_add=frozenset({'E'}), confidence=0.8, lift=0.888888888888889), OrderedStatistic(items_base=frozenset({'E'}), items_add=frozenset({'D'}), confidence=0.4444444444444445, lift=0.888888888888889)]),\n",
       " RelationRecord(items=frozenset({'G', 'D'}), support=0.2, ordered_statistics=[OrderedStatistic(items_base=frozenset(), items_add=frozenset({'G', 'D'}), confidence=0.2, lift=1.0), OrderedStatistic(items_base=frozenset({'D'}), items_add=frozenset({'G'}), confidence=0.4, lift=1.3333333333333335), OrderedStatistic(items_base=frozenset({'G'}), items_add=frozenset({'D'}), confidence=0.6666666666666667, lift=1.3333333333333335)]),\n",
       " RelationRecord(items=frozenset({'F', 'E'}), support=0.3, ordered_statistics=[OrderedStatistic(items_base=frozenset(), items_add=frozenset({'F', 'E'}), confidence=0.3, lift=1.0), OrderedStatistic(items_base=frozenset({'E'}), items_add=frozenset({'F'}), confidence=0.3333333333333333, lift=1.1111111111111112), OrderedStatistic(items_base=frozenset({'F'}), items_add=frozenset({'E'}), confidence=1.0, lift=1.1111111111111112)]),\n",
       " RelationRecord(items=frozenset({'G', 'E'}), support=0.2, ordered_statistics=[OrderedStatistic(items_base=frozenset(), items_add=frozenset({'E', 'G'}), confidence=0.2, lift=1.0), OrderedStatistic(items_base=frozenset({'E'}), items_add=frozenset({'G'}), confidence=0.22222222222222224, lift=0.7407407407407408), OrderedStatistic(items_base=frozenset({'G'}), items_add=frozenset({'E'}), confidence=0.6666666666666667, lift=0.7407407407407408)])]"
      ]
     },
     "metadata": {},
     "execution_count": 6
    }
   ],
   "metadata": {}
  },
  {
   "cell_type": "markdown",
   "source": [
    "## Question 7"
   ],
   "metadata": {}
  },
  {
   "cell_type": "code",
   "execution_count": 13,
   "source": [
    "transactions = [\n",
    "    ['A', 'C', 'D'],\n",
    "    ['B', 'C', 'E'],\n",
    "    ['A', 'B', 'C', 'E'],\n",
    "    ['B', 'E']\n",
    "]\n",
    "\n",
    "results = list(apriori(transactions))\n",
    "pprint(results)"
   ],
   "outputs": [],
   "metadata": {}
  },
  {
   "cell_type": "code",
   "execution_count": 8,
   "source": [
    "def get_rules(apriori_results):\n",
    "    rules = []\n",
    "    for rule in apriori_results:\n",
    "        rule_stats = rule.ordered_statistics\n",
    "        for ordered_stat in rule_stats:\n",
    "            if (len(ordered_stat.items_base) > 0):\n",
    "                rules.append(ordered_stat)\n",
    "\n",
    "    return rules\n",
    "\n",
    "count = 0\n",
    "rules = get_rules(results)\n",
    "for rule in rules:\n",
    "    if rule.confidence > 0.65:\n",
    "        pprint(rule)\n",
    "        count = count + 1\n",
    "\n",
    "# this result is incorrect, the question sats the answer is 14\n",
    "pprint(count)"
   ],
   "outputs": [
    {
     "output_type": "stream",
     "name": "stdout",
     "text": [
      "OrderedStatistic(items_base=frozenset({'A'}), items_add=frozenset({'C'}), confidence=1.0, lift=1.3333333333333333)\n",
      "OrderedStatistic(items_base=frozenset({'C'}), items_add=frozenset({'A'}), confidence=0.6666666666666666, lift=1.3333333333333333)\n",
      "OrderedStatistic(items_base=frozenset({'D'}), items_add=frozenset({'A'}), confidence=1.0, lift=2.0)\n",
      "OrderedStatistic(items_base=frozenset({'B'}), items_add=frozenset({'C'}), confidence=0.6666666666666666, lift=0.8888888888888888)\n",
      "OrderedStatistic(items_base=frozenset({'C'}), items_add=frozenset({'B'}), confidence=0.6666666666666666, lift=0.8888888888888888)\n",
      "OrderedStatistic(items_base=frozenset({'B'}), items_add=frozenset({'E'}), confidence=1.0, lift=1.3333333333333333)\n",
      "OrderedStatistic(items_base=frozenset({'E'}), items_add=frozenset({'B'}), confidence=1.0, lift=1.3333333333333333)\n",
      "OrderedStatistic(items_base=frozenset({'D'}), items_add=frozenset({'C'}), confidence=1.0, lift=1.3333333333333333)\n",
      "OrderedStatistic(items_base=frozenset({'C'}), items_add=frozenset({'E'}), confidence=0.6666666666666666, lift=0.8888888888888888)\n",
      "OrderedStatistic(items_base=frozenset({'E'}), items_add=frozenset({'C'}), confidence=0.6666666666666666, lift=0.8888888888888888)\n",
      "OrderedStatistic(items_base=frozenset({'B', 'A'}), items_add=frozenset({'C'}), confidence=1.0, lift=1.3333333333333333)\n",
      "OrderedStatistic(items_base=frozenset({'B', 'A'}), items_add=frozenset({'E'}), confidence=1.0, lift=1.3333333333333333)\n",
      "OrderedStatistic(items_base=frozenset({'E', 'A'}), items_add=frozenset({'B'}), confidence=1.0, lift=1.3333333333333333)\n",
      "OrderedStatistic(items_base=frozenset({'D'}), items_add=frozenset({'C', 'A'}), confidence=1.0, lift=2.0)\n",
      "OrderedStatistic(items_base=frozenset({'D', 'A'}), items_add=frozenset({'C'}), confidence=1.0, lift=1.3333333333333333)\n",
      "OrderedStatistic(items_base=frozenset({'D', 'C'}), items_add=frozenset({'A'}), confidence=1.0, lift=2.0)\n",
      "OrderedStatistic(items_base=frozenset({'E', 'A'}), items_add=frozenset({'C'}), confidence=1.0, lift=1.3333333333333333)\n",
      "OrderedStatistic(items_base=frozenset({'B'}), items_add=frozenset({'E', 'C'}), confidence=0.6666666666666666, lift=1.3333333333333333)\n",
      "OrderedStatistic(items_base=frozenset({'C'}), items_add=frozenset({'B', 'E'}), confidence=0.6666666666666666, lift=0.8888888888888888)\n",
      "OrderedStatistic(items_base=frozenset({'E'}), items_add=frozenset({'B', 'C'}), confidence=0.6666666666666666, lift=1.3333333333333333)\n",
      "OrderedStatistic(items_base=frozenset({'B', 'C'}), items_add=frozenset({'E'}), confidence=1.0, lift=1.3333333333333333)\n",
      "OrderedStatistic(items_base=frozenset({'B', 'E'}), items_add=frozenset({'C'}), confidence=0.6666666666666666, lift=0.8888888888888888)\n",
      "OrderedStatistic(items_base=frozenset({'E', 'C'}), items_add=frozenset({'B'}), confidence=1.0, lift=1.3333333333333333)\n",
      "OrderedStatistic(items_base=frozenset({'B', 'A'}), items_add=frozenset({'E', 'C'}), confidence=1.0, lift=2.0)\n",
      "OrderedStatistic(items_base=frozenset({'E', 'A'}), items_add=frozenset({'B', 'C'}), confidence=1.0, lift=2.0)\n",
      "OrderedStatistic(items_base=frozenset({'B', 'C', 'A'}), items_add=frozenset({'E'}), confidence=1.0, lift=1.3333333333333333)\n",
      "OrderedStatistic(items_base=frozenset({'B', 'E', 'A'}), items_add=frozenset({'C'}), confidence=1.0, lift=1.3333333333333333)\n",
      "OrderedStatistic(items_base=frozenset({'E', 'C', 'A'}), items_add=frozenset({'B'}), confidence=1.0, lift=1.3333333333333333)\n",
      "28\n"
     ]
    }
   ],
   "metadata": {}
  },
  {
   "cell_type": "code",
   "execution_count": 11,
   "source": [
    "def get_rules(apriori_results):\n",
    "    rules = []\n",
    "    for rule in apriori_results:\n",
    "        rule_stats = rule.ordered_statistics\n",
    "        for ordered_stat in rule_stats:\n",
    "            if (len(ordered_stat.items_base) > 0):\n",
    "                rules.append(ordered_stat)\n",
    "\n",
    "    return rules\n",
    "\n",
    "count = 0\n",
    "rules = get_rules(results)\n",
    "for rule in rules:\n",
    "    if rule.confidence > 0.8:\n",
    "        pprint(rule)\n",
    "        count = count + 1"
   ],
   "outputs": [
    {
     "output_type": "stream",
     "name": "stdout",
     "text": [
      "OrderedStatistic(items_base=frozenset({'A'}), items_add=frozenset({'C'}), confidence=1.0, lift=1.3333333333333333)\n",
      "OrderedStatistic(items_base=frozenset({'D'}), items_add=frozenset({'A'}), confidence=1.0, lift=2.0)\n",
      "OrderedStatistic(items_base=frozenset({'B'}), items_add=frozenset({'E'}), confidence=1.0, lift=1.3333333333333333)\n",
      "OrderedStatistic(items_base=frozenset({'E'}), items_add=frozenset({'B'}), confidence=1.0, lift=1.3333333333333333)\n",
      "OrderedStatistic(items_base=frozenset({'D'}), items_add=frozenset({'C'}), confidence=1.0, lift=1.3333333333333333)\n",
      "OrderedStatistic(items_base=frozenset({'B', 'A'}), items_add=frozenset({'C'}), confidence=1.0, lift=1.3333333333333333)\n",
      "OrderedStatistic(items_base=frozenset({'B', 'A'}), items_add=frozenset({'E'}), confidence=1.0, lift=1.3333333333333333)\n",
      "OrderedStatistic(items_base=frozenset({'E', 'A'}), items_add=frozenset({'B'}), confidence=1.0, lift=1.3333333333333333)\n",
      "OrderedStatistic(items_base=frozenset({'D'}), items_add=frozenset({'C', 'A'}), confidence=1.0, lift=2.0)\n",
      "OrderedStatistic(items_base=frozenset({'D', 'A'}), items_add=frozenset({'C'}), confidence=1.0, lift=1.3333333333333333)\n",
      "OrderedStatistic(items_base=frozenset({'D', 'C'}), items_add=frozenset({'A'}), confidence=1.0, lift=2.0)\n",
      "OrderedStatistic(items_base=frozenset({'E', 'A'}), items_add=frozenset({'C'}), confidence=1.0, lift=1.3333333333333333)\n",
      "OrderedStatistic(items_base=frozenset({'B', 'C'}), items_add=frozenset({'E'}), confidence=1.0, lift=1.3333333333333333)\n",
      "OrderedStatistic(items_base=frozenset({'E', 'C'}), items_add=frozenset({'B'}), confidence=1.0, lift=1.3333333333333333)\n",
      "OrderedStatistic(items_base=frozenset({'B', 'A'}), items_add=frozenset({'E', 'C'}), confidence=1.0, lift=2.0)\n",
      "OrderedStatistic(items_base=frozenset({'E', 'A'}), items_add=frozenset({'B', 'C'}), confidence=1.0, lift=2.0)\n",
      "OrderedStatistic(items_base=frozenset({'B', 'C', 'A'}), items_add=frozenset({'E'}), confidence=1.0, lift=1.3333333333333333)\n",
      "OrderedStatistic(items_base=frozenset({'B', 'E', 'A'}), items_add=frozenset({'C'}), confidence=1.0, lift=1.3333333333333333)\n",
      "OrderedStatistic(items_base=frozenset({'E', 'C', 'A'}), items_add=frozenset({'B'}), confidence=1.0, lift=1.3333333333333333)\n"
     ]
    }
   ],
   "metadata": {}
  }
 ],
 "metadata": {
  "orig_nbformat": 4,
  "language_info": {
   "name": "python",
   "version": "3.7.3",
   "mimetype": "text/x-python",
   "codemirror_mode": {
    "name": "ipython",
    "version": 3
   },
   "pygments_lexer": "ipython3",
   "nbconvert_exporter": "python",
   "file_extension": ".py"
  },
  "kernelspec": {
   "name": "python3",
   "display_name": "Python 3.7.3 64-bit"
  },
  "interpreter": {
   "hash": "31f2aee4e71d21fbe5cf8b01ff0e069b9275f58929596ceb00d14d90e3e16cd6"
  }
 },
 "nbformat": 4,
 "nbformat_minor": 2
}
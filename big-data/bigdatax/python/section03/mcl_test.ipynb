{
 "metadata": {
  "language_info": {
   "codemirror_mode": {
    "name": "ipython",
    "version": 3
   },
   "file_extension": ".py",
   "mimetype": "text/x-python",
   "name": "python",
   "nbconvert_exporter": "python",
   "pygments_lexer": "ipython3",
   "version": "3.8.11"
  },
  "orig_nbformat": 4,
  "kernelspec": {
   "name": "python3",
   "display_name": "Python 3.8.11 64-bit"
  },
  "interpreter": {
   "hash": "4cd7ab41f5fca4b9b44701077e38c5ffd31fe66a6cab21e0214b68d958d0e462"
  }
 },
 "nbformat": 4,
 "nbformat_minor": 2,
 "cells": [
  {
   "cell_type": "code",
   "execution_count": 3,
   "metadata": {},
   "outputs": [],
   "source": [
    "import numpy as np"
   ]
  },
  {
   "cell_type": "code",
   "execution_count": 6,
   "metadata": {},
   "outputs": [],
   "source": [
    "mg = np.array([\n",
    "    [0, 1, 1, 0, 0, 0],\n",
    "    [1, 0, 1, 0, 0, 0],\n",
    "    [1, 1, 0, 1, 0, 0],\n",
    "    [0, 0, 1, 0, 1, 1],\n",
    "    [0, 0, 0, 1, 0, 1],\n",
    "    [0, 0, 0, 1, 1, 0]])"
   ]
  },
  {
   "cell_type": "code",
   "execution_count": 13,
   "metadata": {},
   "outputs": [
    {
     "output_type": "execute_result",
     "data": {
      "text/plain": [
       "array([[1., 1., 1., 0., 0., 0.],\n",
       "       [1., 1., 1., 0., 0., 0.],\n",
       "       [1., 1., 1., 1., 0., 0.],\n",
       "       [0., 0., 1., 1., 1., 1.],\n",
       "       [0., 0., 0., 1., 1., 1.],\n",
       "       [0., 0., 0., 1., 1., 1.]])"
      ]
     },
     "metadata": {},
     "execution_count": 13
    }
   ],
   "source": [
    "mdg = mg + np.identity(6)\n",
    "mdg"
   ]
  },
  {
   "cell_type": "code",
   "execution_count": 15,
   "metadata": {},
   "outputs": [
    {
     "output_type": "execute_result",
     "data": {
      "text/plain": [
       "array([[3., 3., 3., 1., 0., 0.],\n",
       "       [3., 3., 3., 1., 0., 0.],\n",
       "       [3., 3., 4., 2., 1., 1.],\n",
       "       [1., 1., 2., 4., 3., 3.],\n",
       "       [0., 0., 1., 3., 3., 3.],\n",
       "       [0., 0., 1., 3., 3., 3.]])"
      ]
     },
     "metadata": {},
     "execution_count": 15
    }
   ],
   "source": [
    "# mg^2\n",
    "np.matmul(mdg, mdg)"
   ]
  },
  {
   "cell_type": "code",
   "execution_count": 23,
   "metadata": {},
   "outputs": [
    {
     "output_type": "stream",
     "name": "stdout",
     "text": [
      "[[0.33333333 0.33333333 0.25       0.         0.         0.        ]\n [0.33333333 0.33333333 0.25       0.         0.         0.        ]\n [0.33333333 0.33333333 0.25       0.25       0.         0.        ]\n [0.         0.         0.25       0.25       0.33333333 0.33333333]\n [0.         0.         0.         0.25       0.33333333 0.33333333]\n [0.         0.         0.         0.25       0.33333333 0.33333333]]\n"
     ]
    }
   ],
   "source": [
    "# tgd\n",
    "tgd =  np.divide(mdg, mdg.sum(axis=0))\n",
    "print(tgd)"
   ]
  },
  {
   "cell_type": "code",
   "execution_count": 25,
   "metadata": {},
   "outputs": [
    {
     "output_type": "stream",
     "name": "stdout",
     "text": [
      "[[0.15004492 0.15004492 0.1500261  0.1499739  0.14995508 0.14995508]\n [0.15004492 0.15004492 0.1500261  0.1499739  0.14995508 0.14995508]\n [0.2000348  0.2000348  0.20002023 0.19997977 0.1999652  0.1999652 ]\n [0.1999652  0.1999652  0.19997977 0.20002023 0.2000348  0.2000348 ]\n [0.14995508 0.14995508 0.1499739  0.1500261  0.15004492 0.15004492]\n [0.14995508 0.14995508 0.1499739  0.1500261  0.15004492 0.15004492]]\n"
     ]
    }
   ],
   "source": [
    "a = tgd\n",
    "for i in range(0, 55):\n",
    "    a = np.matmul(a, tgd)\n",
    "\n",
    "print(a)"
   ]
  },
  {
   "source": [
    "# Example Sample\n",
    "https://learning.edx.org/course/course-v1:AdelaideX+BigDataX+1T2021/block-v1:AdelaideX+BigDataX+1T2021+type@sequential+block@92e874921909456699eeccdd520e4c53/block-v1:AdelaideX+BigDataX+1T2021+type@vertical+block@da9847c9aef245ba836046faca4a51c7"
   ],
   "cell_type": "markdown",
   "metadata": {}
  },
  {
   "cell_type": "code",
   "execution_count": 100,
   "metadata": {},
   "outputs": [
    {
     "output_type": "stream",
     "name": "stdout",
     "text": [
      "[[0. 0. 0. 0. 0. 0.]\n [0. 0. 0. 0. 0. 0.]\n [1. 1. 1. 0. 0. 0.]\n [0. 0. 0. 1. 1. 1.]\n [0. 0. 0. 0. 0. 0.]\n [0. 0. 0. 0. 0. 0.]]\n"
     ]
    }
   ],
   "source": [
    "def mcl(adjacent_matrix, p, r, steps, prune=None): \n",
    "    # add the self loop\n",
    "    self_loop = adjacent_matrix + np.identity(len(adjacent_matrix))\n",
    "    \n",
    "    # create the normalised transition matrix\n",
    "    transition_matrix = np.divide(self_loop, self_loop.sum(axis=0))\n",
    "\n",
    "    # multiply the normalised transition matrix by itself p times\n",
    "    for step in range(0, steps):\n",
    "        multiplied_matrix = transition_matrix\n",
    "        for i in range(0, p):\n",
    "            multiplied_matrix = np.matmul(multiplied_matrix, multiplied_matrix)\n",
    "\n",
    "        # inflate resulting matrix with parameter r\n",
    "        transition_matrix = np.power(multiplied_matrix, r)\n",
    "        transition_matrix = np.divide(transition_matrix, transition_matrix.sum(axis=0))\n",
    "\n",
    "        # prune values\n",
    "        if prune is not None:\n",
    "            transition_matrix[transition_matrix < prune] = 0\n",
    "\n",
    "    return transition_matrix\n",
    "\n",
    "\n",
    "matrix = np.array([\n",
    "[0, 0, 0, 0, 0, 0],\n",
    "[0, 0, 0, 0, 0, 0],\n",
    "[1, 1, 1, 0, 0, 0],\n",
    "[0, 0, 0, 1, 1, 1],\n",
    "[0, 0, 0, 0, 0, 0],\n",
    "[0, 0, 0, 0, 0, 0]])\n",
    "\n",
    "print(mcl(matrix, 2, 2, 13))"
   ]
  },
  {
   "source": [
    "## Question 21"
   ],
   "cell_type": "markdown",
   "metadata": {}
  },
  {
   "source": [
    "matrix = np.array([\n",
    "    [0, 1, 0],\n",
    "    [1, 0, 1],\n",
    "    [0, 1, 0]\n",
    "])\n",
    "\n",
    "print(mcl(matrix, p=2, r=2, steps=2, prune=0.1))"
   ],
   "cell_type": "code",
   "metadata": {},
   "execution_count": 101,
   "outputs": [
    {
     "output_type": "stream",
     "name": "stdout",
     "text": [
      "[[0.14267251 0.14260591 0.14253931]\n [0.71478817 0.71478819 0.71478817]\n [0.14253931 0.14260591 0.14267251]]\n"
     ]
    }
   ]
  },
  {
   "source": [
    "## Question 23"
   ],
   "cell_type": "markdown",
   "metadata": {}
  },
  {
   "cell_type": "code",
   "execution_count": 102,
   "metadata": {},
   "outputs": [
    {
     "output_type": "stream",
     "name": "stdout",
     "text": [
      "[[0.         0.         0.        ]\n [0.92626313 0.92626313 0.92626313]\n [0.         0.         0.        ]]\n"
     ]
    }
   ],
   "source": [
    "matrix = np.array([\n",
    "    [0, 1, 0],\n",
    "    [1, 0, 1],\n",
    "    [0, 1, 0]\n",
    "])\n",
    "\n",
    "print(mcl(matrix, p=2, r=2, steps=3, prune=0.1))"
   ]
  },
  {
   "source": [
    "## Question 25"
   ],
   "cell_type": "markdown",
   "metadata": {}
  },
  {
   "cell_type": "code",
   "execution_count": 104,
   "metadata": {},
   "outputs": [
    {
     "output_type": "stream",
     "name": "stdout",
     "text": [
      "[[0. 0. 0.]\n [1. 1. 1.]\n [0. 0. 0.]]\n"
     ]
    }
   ],
   "source": [
    "matrix = np.array([\n",
    "    [0, 1, 0],\n",
    "    [1, 0, 1],\n",
    "    [0, 1, 0]\n",
    "])\n",
    "\n",
    "print(mcl(matrix, p=3, r=3, steps=20, prune=0.1))"
   ]
  },
  {
   "source": [
    "## Question 26-27"
   ],
   "cell_type": "markdown",
   "metadata": {}
  },
  {
   "cell_type": "code",
   "execution_count": 105,
   "metadata": {},
   "outputs": [
    {
     "output_type": "stream",
     "name": "stdout",
     "text": [
      "[[0.         0.         0.        ]\n [0.95054097 0.95054097 0.95054097]\n [0.         0.         0.        ]]\n"
     ]
    }
   ],
   "source": [
    "matrix = np.array([\n",
    "    [0, 1, 0],\n",
    "    [1, 0, 1],\n",
    "    [0, 1, 0]\n",
    "])\n",
    "\n",
    "print(mcl(matrix, p=3, r=3, steps=2, prune=0.1))"
   ]
  },
  {
   "source": [
    "## Question 28"
   ],
   "cell_type": "markdown",
   "metadata": {}
  },
  {
   "cell_type": "code",
   "execution_count": 106,
   "metadata": {},
   "outputs": [
    {
     "output_type": "stream",
     "name": "stdout",
     "text": [
      "[[0. 0. 0.]\n [1. 1. 1.]\n [0. 0. 0.]]\n"
     ]
    }
   ],
   "source": [
    "matrix = np.array([\n",
    "    [0, 1, 0],\n",
    "    [1, 0, 1],\n",
    "    [0, 1, 0]\n",
    "])\n",
    "\n",
    "print(mcl(matrix, p=3, r=3, steps=3, prune=0.1))"
   ]
  }
 ]
}
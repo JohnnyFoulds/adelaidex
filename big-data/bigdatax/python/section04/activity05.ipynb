{
 "metadata": {
  "language_info": {
   "codemirror_mode": {
    "name": "ipython",
    "version": 3
   },
   "file_extension": ".py",
   "mimetype": "text/x-python",
   "name": "python",
   "nbconvert_exporter": "python",
   "pygments_lexer": "ipython3",
   "version": "3.8.11"
  },
  "orig_nbformat": 4,
  "kernelspec": {
   "name": "python3",
   "display_name": "Python 3.8.11 64-bit"
  },
  "interpreter": {
   "hash": "4cd7ab41f5fca4b9b44701077e38c5ffd31fe66a6cab21e0214b68d958d0e462"
  }
 },
 "nbformat": 4,
 "nbformat_minor": 2,
 "cells": [
  {
   "source": [
    "# Activity 5: Applying the basic idea of PageRank\n",
    "\n",
    "## Web References\n",
    "\n",
    "- [Visualisation of graphs](https://igraph.org/python/doc/tutorial/visualisation.html#graph-layouts)\n",
    "- [igraph goes to the very edge of the bounding box](https://stackoverflow.com/questions/14504268/igraph-goes-to-the-very-edge-of-the-bounding-box)"
   ],
   "cell_type": "markdown",
   "metadata": {}
  },
  {
   "source": [
    "## Import Libraries"
   ],
   "cell_type": "markdown",
   "metadata": {}
  },
  {
   "cell_type": "code",
   "execution_count": 1,
   "metadata": {},
   "outputs": [],
   "source": [
    "import pandas as pd\n",
    "import numpy as np\n",
    "import igraph as gp"
   ]
  },
  {
   "source": [
    "## Data Load"
   ],
   "cell_type": "markdown",
   "metadata": {}
  },
  {
   "cell_type": "code",
   "execution_count": 2,
   "metadata": {},
   "outputs": [],
   "source": [
    "grap_edges = [\n",
    "    ['A', 'B'],\n",
    "    ['A', 'C'],\n",
    "    ['A', 'D'],\n",
    "    ['B', 'D'],\n",
    "    ['C', 'A'],\n",
    "    ['C', 'D'],\n",
    "    ['D', 'A'],\n",
    "    ['D', 'C']\n",
    "]"
   ]
  },
  {
   "source": [
    "## PageRank Class"
   ],
   "cell_type": "markdown",
   "metadata": {}
  },
  {
   "cell_type": "code",
   "execution_count": 151,
   "metadata": {},
   "outputs": [
    {
     "output_type": "stream",
     "name": "stdout",
     "text": [
      "[[1, 2], [3], [0, 1, 3], [2]]\n[[2], [0, 2], [0, 3], [1, 2]]\n\n[[0.         0.         0.33333333 0.        ]\n [0.5        0.         0.33333333 0.        ]\n [0.5        0.         0.         1.        ]\n [0.         1.         0.33333333 0.        ]]\n"
     ]
    }
   ],
   "source": [
    "class PageRank:\n",
    "    \"\"\"\n",
    "    Implement the PageRank algorithm using matrix manipulation.\n",
    "    \"\"\"\n",
    "    def __init__(self, edges):\n",
    "        \"\"\"\n",
    "        Create a dafault instance of the class.\n",
    "\n",
    "        Args:\n",
    "            edges: The edges to create the page graph from.\n",
    "        \"\"\"\n",
    "        self.graph = self.createGraph(edges)\n",
    "\n",
    "    def createGraph(self, edges):\n",
    "        \"\"\"\n",
    "        Construct a graph from the page edges.\n",
    "\n",
    "        Args:\n",
    "            edges: The edges to create the page graph from.\n",
    "\n",
    "        Returns:\n",
    "            The graph created from the input edges.\n",
    "        \"\"\"\n",
    "        return gp.Graph.TupleList(edges, directed=True)\n",
    "\n",
    "\n",
    "    def plotGraph(self, width=300, height=300, margin=15, layout='auto', edge_curved=True):\n",
    "        \"\"\"\n",
    "        Plot the page graph.\n",
    "        \"\"\"\n",
    "        return gp.plot(self.graph, \n",
    "            vertex_label=self.graph.vs[\"name\"], \n",
    "            layout=layout, \n",
    "            margin=margin, \n",
    "            bbox=(0, 0, width, height), \n",
    "            edge_curved=edge_curved)\n",
    "\n",
    "    def get_transitionmatrix(self):\n",
    "        \"\"\"\n",
    "        Get the transation matrix of the graph.\n",
    "\n",
    "        Returns:\n",
    "            A numpy array containing the transition matrix.\n",
    "        \"\"\"\n",
    "        # initialize the transition matrix with zeros\n",
    "        node_count = len(self.graph.vs)\n",
    "        transition_matrix = np.zeros([node_count, node_count])\n",
    "\n",
    "        # get the in and out adjacency list\n",
    "        out_adj = self.graph.get_adjlist(mode='out')\n",
    "        in_adj = self.graph.get_adjlist(mode='in')\n",
    "\n",
    "        # calculate the transition matrix\n",
    "        for i in range(node_count):\n",
    "            for j in range(node_count):\n",
    "                # if there is no link from j to i, then mij equals zero\n",
    "                if i not in out_adj[j]:\n",
    "                    transition_matrix[i][j] = 0\n",
    "                else: # mij equals 1/k, if there's a link from page j to i. k is the total number of outgoing links from j\n",
    "                    transition_matrix[i][j] = 1.0 /  len(out_adj[j])\n",
    "\n",
    "\n",
    "        return transition_matrix\n",
    "\n",
    "\n",
    "\"\"\"test the pagerank class\"\"\"\n",
    "# create the test edges\n",
    "test_edges = [\n",
    "    ['A', 'B'],\n",
    "    ['A', 'C'],\n",
    "    ['B', 'D'],\n",
    "    ['C', 'A'],\n",
    "    ['C', 'B'],\n",
    "    ['C', 'D'],\n",
    "    ['D', 'C']\n",
    "]\n",
    "\n",
    "pageRank = PageRank(test_edges)\n",
    "pageRank.plotGraph(width=100, height=100, layout='grid', edge_curved=False)\n",
    "print(pageRank.get_transitionmatrix())"
   ]
  }
 ]
}
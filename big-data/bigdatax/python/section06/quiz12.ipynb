{
 "metadata": {
  "language_info": {
   "codemirror_mode": {
    "name": "ipython",
    "version": 3
   },
   "file_extension": ".py",
   "mimetype": "text/x-python",
   "name": "python",
   "nbconvert_exporter": "python",
   "pygments_lexer": "ipython3",
   "version": "3.8.11"
  },
  "orig_nbformat": 4,
  "kernelspec": {
   "name": "python3",
   "display_name": "Python 3.8.11 64-bit"
  },
  "interpreter": {
   "hash": "4cd7ab41f5fca4b9b44701077e38c5ffd31fe66a6cab21e0214b68d958d0e462"
  }
 },
 "nbformat": 4,
 "nbformat_minor": 2,
 "cells": [
  {
   "cell_type": "code",
   "execution_count": 71,
   "metadata": {},
   "outputs": [],
   "source": [
    "import numpy as np"
   ]
  },
  {
   "cell_type": "code",
   "execution_count": 107,
   "metadata": {},
   "outputs": [
    {
     "output_type": "execute_result",
     "data": {
      "text/plain": [
       "array([[0., 0., 1., 0.],\n",
       "       [0., 0., 3., 1.]])"
      ]
     },
     "metadata": {},
     "execution_count": 107
    }
   ],
   "source": [
    "def calculate_rowhash(input_rows, hash_function):\n",
    "    return hash_function(input_rows)\n",
    "\n",
    "def calculate_signaturematrix(input_data, hash_functions):\n",
    "    # get the row hash values\n",
    "    input_rows = np.array(range(0, input_data.shape[0]))\n",
    "    row_hash = np.empty((len(hash_functions), input_rows.size))\n",
    "    for i in range(len(hash_functions)):\n",
    "        row_hash[i] = hash_functions[i](input_rows)\n",
    "\n",
    "    # initialize the signature matrix\n",
    "    signature_matrix = np.empty((len(hash_functions), input_data.shape[1]))\n",
    "    signature_matrix.fill(np.inf)\n",
    "\n",
    "    for row_index in range(input_data.shape[0]):\n",
    "        for column_index in range(input_data.shape[1]):\n",
    "            for hash_index in range(len(hash_functions)):\n",
    "                if input_data[row_index][column_index] == 1:\n",
    "                    signature_matrix[hash_index][column_index] = min(\n",
    "                        signature_matrix[hash_index][column_index],\n",
    "                        row_hash[hash_index][row_index])\n",
    "\n",
    "        #print(\"-- stage\", row_index, \"---\")\n",
    "        #print(signature_matrix)\n",
    "\n",
    "    return signature_matrix\n",
    "\n",
    "# test the minhash function\n",
    "data_matrix = np.array([\n",
    "    [0, 1, 1, 0],\n",
    "    [1, 1, 0, 0],\n",
    "    [1, 0, 0, 0],\n",
    "    [0, 0, 1, 0],\n",
    "    [1, 1, 0, 1]\n",
    "])\n",
    "\n",
    "calculate_signaturematrix(data_matrix, [\n",
    "    lambda x : (x + 1) % 5, \n",
    "    lambda x : (2 * x + 3) % 5\n",
    "])\n",
    "\n",
    "#print(data_rowhash)\n"
   ]
  },
  {
   "source": [
    "## Question 1"
   ],
   "cell_type": "markdown",
   "metadata": {}
  },
  {
   "cell_type": "code",
   "execution_count": 108,
   "metadata": {},
   "outputs": [
    {
     "output_type": "execute_result",
     "data": {
      "text/plain": [
       "array([[1., 1., 0., 4., 2.],\n",
       "       [0., 1., 0., 3., 0.]])"
      ]
     },
     "metadata": {},
     "execution_count": 108
    }
   ],
   "source": [
    "data_matrix = np.array([\n",
    "    [0, 1, 0, 1, 1],\n",
    "    [0, 0, 1, 0, 0],\n",
    "    [1, 1, 0, 0, 0],\n",
    "    [1, 0, 1, 0, 1],\n",
    "    [1, 0, 0, 0, 0],\n",
    "    [0, 0, 1, 1, 0]\n",
    "])\n",
    "\n",
    "calculate_signaturematrix(data_matrix, [\n",
    "    lambda x : (x + 5) % 6,\n",
    "    lambda x : (5 * x + 3) % 6\n",
    "])"
   ]
  },
  {
   "source": [
    "## Question 2"
   ],
   "cell_type": "markdown",
   "metadata": {}
  },
  {
   "cell_type": "code",
   "execution_count": 110,
   "metadata": {},
   "outputs": [
    {
     "output_type": "execute_result",
     "data": {
      "text/plain": [
       "array([[1., 1., 0., 2., 4.],\n",
       "       [1., 3., 1., 5., 3.],\n",
       "       [1., 2., 1., 2., 0.]])"
      ]
     },
     "metadata": {},
     "execution_count": 110
    }
   ],
   "source": [
    "data_matrix = np.array([\n",
    "    [1, 1, 0, 0, 0],\n",
    "    [0, 1, 1, 1, 0],\n",
    "    [1, 0, 1, 0, 0],\n",
    "    [0, 0, 0, 0, 1],\n",
    "    [1, 0, 0, 1, 1],\n",
    "    [0, 0, 1, 0, 0]\n",
    "])\n",
    "\n",
    "calculate_signaturematrix(data_matrix, [\n",
    "    lambda x : (x + 1) % 6,\n",
    "    lambda x : (2 * x + 3) % 6,\n",
    "    lambda x : (5 * x + 3) % 6\n",
    "])"
   ]
  }
 ]
}